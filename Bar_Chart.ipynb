{
 "cells": [
  {
   "cell_type": "code",
   "execution_count": 1,
   "id": "dcc9e539",
   "metadata": {},
   "outputs": [],
   "source": [
    "import matplotlib.pyplot as plt\n",
    "import numpy as np\n",
    "from matplotlib import style"
   ]
  },
  {
   "cell_type": "code",
   "execution_count": 2,
   "id": "a905d859",
   "metadata": {},
   "outputs": [],
   "source": [
    "classes = [\"Python\", \"R\", \"AI\", \"ML\", \"DS\"]\n",
    "class1_students = [30, 10, 20, 25, 10] # out of 100 student in each class\n",
    "class2_students = [40, 5, 20, 20, 10]\n",
    "class3_students = [35, 5, 30, 15, 15]"
   ]
  },
  {
   "cell_type": "code",
   "execution_count": 3,
   "id": "ba24ad10",
   "metadata": {},
   "outputs": [
    {
     "data": {
      "image/png": "[encoded data removed]",
      "text/plain": [
       "<Figure size 432x288 with 1 Axes>"
      ]
     },
     "metadata": {
      "needs_background": "light"
     },
     "output_type": "display_data"
    }
   ],
   "source": [
    "plt.bar(classes,class1_students)\n",
    "plt.show()"
   ]
  },
  {
   "cell_type": "code",
   "execution_count": 4,
   "id": "a7a1c3dc",
   "metadata": {},
   "outputs": [
    {
     "data": {
      "text/plain": [
       "<BarContainer object of 5 artists>"
      ]
     },
     "execution_count": 4,
     "metadata": {},
     "output_type": "execute_result"
    },
    {
     "data": {
      "image/png": "[encoded data removed]",
      "text/plain": [
       "<Figure size 432x288 with 1 Axes>"
      ]
     },
     "metadata": {
      "needs_background": "light"
     },
     "output_type": "display_data"
    }
   ],
   "source": [
    "plt.barh(classes,class1_students)"
   ]
  },
  {
   "cell_type": "code",
   "execution_count": 5,
   "id": "0996e330",
   "metadata": {},
   "outputs": [
    {
     "data": {
      "text/plain": [
       "<BarContainer object of 5 artists>"
      ]
     },
     "execution_count": 5,
     "metadata": {},
     "output_type": "execute_result"
    },
    {
     "data": {
      "image/png": "[encoded data removed]",
      "text/plain": [
       "<Figure size 432x288 with 1 Axes>"
      ]
     },
     "metadata": {
      "needs_background": "light"
     },
     "output_type": "display_data"
    }
   ],
   "source": [
    "plt.bar(classes, class1_students, width = 0.2, align = \"edge\", color = \"y\",\n",
    "       edgecolor = \"m\", linewidth = 5, alpha = 0.9, linestyle = \"--\",\n",
    "       label =\" Class 1 Students\", visible=False)\n",
    "#visible = True ## bar Chart will hide "
   ]
  },
  {
   "cell_type": "code",
   "execution_count": null,
   "id": "2018fba9",
   "metadata": {},
   "outputs": [],
   "source": []
  }
 ],
 "metadata": {
  "kernelspec": {
   "display_name": "Python 3 (ipykernel)",
   "language": "python",
   "name": "python3"
  },
  "language_info": {
   "codemirror_mode": {
    "name": "ipython",
    "version": 3
   },
   "file_extension": ".py",
   "mimetype": "text/x-python",
   "name": "python",
   "nbconvert_exporter": "python",
   "pygments_lexer": "ipython3",
   "version": "3.9.12"
  }
 },
 "nbformat": 4,
 "nbformat_minor": 5
}
